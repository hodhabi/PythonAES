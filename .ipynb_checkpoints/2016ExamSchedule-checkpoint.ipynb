{
 "cells": [
  {
   "cell_type": "code",
   "execution_count": 1,
   "metadata": {},
   "outputs": [],
   "source": [
    "import pandas as pd\n",
    "\n",
    "regO=pd.read_excel('../../data/201710 Course Reg Rpt for Dr Hamad dtd 2Oct17.xlsx')\n",
    "\n",
    "regO = regO.rename(columns={'Final Course': 'Course'})\n",
    "regO = regO.rename(columns={'Student Id': 'ID'})\n",
    "\n",
    "coursesO = pd.DataFrame(regO['Course'].unique(), columns=['Course'])\n",
    "\n",
    "coursesO = coursesO.sort_values('Course')"
   ]
  },
  {
   "cell_type": "code",
   "execution_count": 2,
   "metadata": {},
   "outputs": [
    {
     "data": {
      "text/html": [
       "<div>\n",
       "<style scoped>\n",
       "    .dataframe tbody tr th:only-of-type {\n",
       "        vertical-align: middle;\n",
       "    }\n",
       "\n",
       "    .dataframe tbody tr th {\n",
       "        vertical-align: top;\n",
       "    }\n",
       "\n",
       "    .dataframe thead th {\n",
       "        text-align: right;\n",
       "    }\n",
       "</style>\n",
       "<table border=\"1\" class=\"dataframe\">\n",
       "  <thead>\n",
       "    <tr style=\"text-align: right;\">\n",
       "      <th></th>\n",
       "      <th>ID</th>\n",
       "      <th>Full Name</th>\n",
       "      <th>Term Code</th>\n",
       "      <th>Registration Status Code</th>\n",
       "      <th>Registration Status Description</th>\n",
       "      <th>College</th>\n",
       "      <th>Section (CRN)</th>\n",
       "      <th>Course</th>\n",
       "      <th>Subject Code</th>\n",
       "      <th>FWA STATUS</th>\n",
       "      <th>Exam Delivery</th>\n",
       "      <th>Exam Type</th>\n",
       "      <th>Exam Duration (H:MM)</th>\n",
       "      <th>Comments</th>\n",
       "      <th>Credit Hours</th>\n",
       "      <th>Course Division</th>\n",
       "      <th>Faculty Id</th>\n",
       "      <th>Faculty Name</th>\n",
       "    </tr>\n",
       "  </thead>\n",
       "  <tbody>\n",
       "    <tr>\n",
       "      <th>0</th>\n",
       "      <td>H00357891</td>\n",
       "      <td>Fatema Noormohammed Ramadhan Al Balushi</td>\n",
       "      <td>201710</td>\n",
       "      <td>RW</td>\n",
       "      <td>**Web Registered**</td>\n",
       "      <td>SWC</td>\n",
       "      <td>11208</td>\n",
       "      <td>HSC-1233</td>\n",
       "      <td>HSC</td>\n",
       "      <td>FWA</td>\n",
       "      <td>Paper (PBT)</td>\n",
       "      <td>NaN</td>\n",
       "      <td>02:00:00</td>\n",
       "      <td>NaN</td>\n",
       "      <td>3</td>\n",
       "      <td>Health Sciences</td>\n",
       "      <td>H00001214</td>\n",
       "      <td>Nawal Majeed</td>\n",
       "    </tr>\n",
       "    <tr>\n",
       "      <th>1</th>\n",
       "      <td>H00357501</td>\n",
       "      <td>Azza Ali Hamad Ali Almualla</td>\n",
       "      <td>201710</td>\n",
       "      <td>RW</td>\n",
       "      <td>**Web Registered**</td>\n",
       "      <td>SWC</td>\n",
       "      <td>11208</td>\n",
       "      <td>HSC-1233</td>\n",
       "      <td>HSC</td>\n",
       "      <td>FWA</td>\n",
       "      <td>Paper (PBT)</td>\n",
       "      <td>NaN</td>\n",
       "      <td>02:00:00</td>\n",
       "      <td>NaN</td>\n",
       "      <td>3</td>\n",
       "      <td>Health Sciences</td>\n",
       "      <td>H00001214</td>\n",
       "      <td>Nawal Majeed</td>\n",
       "    </tr>\n",
       "    <tr>\n",
       "      <th>2</th>\n",
       "      <td>H00355585</td>\n",
       "      <td>Shamma Abdulla Mohammed Tahnun Alalili</td>\n",
       "      <td>201710</td>\n",
       "      <td>RW</td>\n",
       "      <td>**Web Registered**</td>\n",
       "      <td>SWC</td>\n",
       "      <td>11208</td>\n",
       "      <td>HSC-1233</td>\n",
       "      <td>HSC</td>\n",
       "      <td>FWA</td>\n",
       "      <td>Paper (PBT)</td>\n",
       "      <td>NaN</td>\n",
       "      <td>02:00:00</td>\n",
       "      <td>NaN</td>\n",
       "      <td>3</td>\n",
       "      <td>Health Sciences</td>\n",
       "      <td>H00001214</td>\n",
       "      <td>Nawal Majeed</td>\n",
       "    </tr>\n",
       "    <tr>\n",
       "      <th>3</th>\n",
       "      <td>H00354440</td>\n",
       "      <td>Mahra Abdulrazaq Sultan Mohammed Alajmani</td>\n",
       "      <td>201710</td>\n",
       "      <td>RW</td>\n",
       "      <td>**Web Registered**</td>\n",
       "      <td>SWC</td>\n",
       "      <td>11208</td>\n",
       "      <td>HSC-1233</td>\n",
       "      <td>HSC</td>\n",
       "      <td>FWA</td>\n",
       "      <td>Paper (PBT)</td>\n",
       "      <td>NaN</td>\n",
       "      <td>02:00:00</td>\n",
       "      <td>NaN</td>\n",
       "      <td>3</td>\n",
       "      <td>Health Sciences</td>\n",
       "      <td>H00001214</td>\n",
       "      <td>Nawal Majeed</td>\n",
       "    </tr>\n",
       "    <tr>\n",
       "      <th>4</th>\n",
       "      <td>H00354139</td>\n",
       "      <td>Hamda Mohamed Ismail Hasan Almarzooqi</td>\n",
       "      <td>201710</td>\n",
       "      <td>RW</td>\n",
       "      <td>**Web Registered**</td>\n",
       "      <td>SWC</td>\n",
       "      <td>11208</td>\n",
       "      <td>HSC-1233</td>\n",
       "      <td>HSC</td>\n",
       "      <td>FWA</td>\n",
       "      <td>Paper (PBT)</td>\n",
       "      <td>NaN</td>\n",
       "      <td>02:00:00</td>\n",
       "      <td>NaN</td>\n",
       "      <td>3</td>\n",
       "      <td>Health Sciences</td>\n",
       "      <td>H00001214</td>\n",
       "      <td>Nawal Majeed</td>\n",
       "    </tr>\n",
       "  </tbody>\n",
       "</table>\n",
       "</div>"
      ],
      "text/plain": [
       "          ID                                  Full Name  Term Code  \\\n",
       "0  H00357891    Fatema Noormohammed Ramadhan Al Balushi     201710   \n",
       "1  H00357501                Azza Ali Hamad Ali Almualla     201710   \n",
       "2  H00355585     Shamma Abdulla Mohammed Tahnun Alalili     201710   \n",
       "3  H00354440  Mahra Abdulrazaq Sultan Mohammed Alajmani     201710   \n",
       "4  H00354139      Hamda Mohamed Ismail Hasan Almarzooqi     201710   \n",
       "\n",
       "  Registration Status Code Registration Status Description College  \\\n",
       "0                       RW              **Web Registered**     SWC   \n",
       "1                       RW              **Web Registered**     SWC   \n",
       "2                       RW              **Web Registered**     SWC   \n",
       "3                       RW              **Web Registered**     SWC   \n",
       "4                       RW              **Web Registered**     SWC   \n",
       "\n",
       "   Section (CRN)    Course Subject Code FWA STATUS Exam Delivery Exam Type  \\\n",
       "0          11208  HSC-1233          HSC        FWA   Paper (PBT)       NaN   \n",
       "1          11208  HSC-1233          HSC        FWA   Paper (PBT)       NaN   \n",
       "2          11208  HSC-1233          HSC        FWA   Paper (PBT)       NaN   \n",
       "3          11208  HSC-1233          HSC        FWA   Paper (PBT)       NaN   \n",
       "4          11208  HSC-1233          HSC        FWA   Paper (PBT)       NaN   \n",
       "\n",
       "  Exam Duration (H:MM) Comments  Credit Hours  Course Division Faculty Id  \\\n",
       "0             02:00:00      NaN             3  Health Sciences  H00001214   \n",
       "1             02:00:00      NaN             3  Health Sciences  H00001214   \n",
       "2             02:00:00      NaN             3  Health Sciences  H00001214   \n",
       "3             02:00:00      NaN             3  Health Sciences  H00001214   \n",
       "4             02:00:00      NaN             3  Health Sciences  H00001214   \n",
       "\n",
       "   Faculty Name  \n",
       "0  Nawal Majeed  \n",
       "1  Nawal Majeed  \n",
       "2  Nawal Majeed  \n",
       "3  Nawal Majeed  \n",
       "4  Nawal Majeed  "
      ]
     },
     "execution_count": 2,
     "metadata": {},
     "output_type": "execute_result"
    }
   ],
   "source": [
    "regO.head()"
   ]
  },
  {
   "cell_type": "code",
   "execution_count": 14,
   "metadata": {
    "collapsed": true
   },
   "outputs": [],
   "source": []
  },
  {
   "cell_type": "code",
   "execution_count": 3,
   "metadata": {},
   "outputs": [
    {
     "name": "stderr",
     "output_type": "stream",
     "text": [
      "/anaconda3/lib/python3.6/site-packages/ipykernel_launcher.py:12: SettingWithCopyWarning: \n",
      "A value is trying to be set on a copy of a slice from a DataFrame\n",
      "\n",
      "See the caveats in the documentation: http://pandas.pydata.org/pandas-docs/stable/indexing.html#indexing-view-versus-copy\n",
      "  if sys.path[0] == '':\n"
     ]
    }
   ],
   "source": [
    "reg = regO\n",
    "courses=coursesO\n",
    "\n",
    "reg['ExamSlot'] = 0\n",
    "reg['ExamDay'] = 0\n",
    "courses['ExamSlot'] = 0\n",
    "courses['ExamDay'] = 0\n",
    "courses['nstudents'] = 0\n",
    "\n",
    "for cs in courses.values:\n",
    "    ns = len(reg[reg[\"Course\"] == cs[0]])\n",
    "    courses.nstudents[courses.Course == cs[0]] = ns\n",
    "       "
   ]
  },
  {
   "cell_type": "code",
   "execution_count": 41,
   "metadata": {},
   "outputs": [
    {
     "name": "stdout",
     "output_type": "stream",
     "text": [
      "2148\n"
     ]
    }
   ],
   "source": []
  },
  {
   "cell_type": "code",
   "execution_count": 4,
   "metadata": {},
   "outputs": [
    {
     "ename": "AttributeError",
     "evalue": "'DataFrame' object has no attribute 'sort'",
     "output_type": "error",
     "traceback": [
      "\u001b[0;31m---------------------------------------------------------------------------\u001b[0m",
      "\u001b[0;31mAttributeError\u001b[0m                            Traceback (most recent call last)",
      "\u001b[0;32m<ipython-input-4-dbaa0cbe1e62>\u001b[0m in \u001b[0;36m<module>\u001b[0;34m()\u001b[0m\n\u001b[0;32m----> 1\u001b[0;31m \u001b[0mcourses\u001b[0m\u001b[0;34m.\u001b[0m\u001b[0msort\u001b[0m\u001b[0;34m(\u001b[0m\u001b[0;34m[\u001b[0m\u001b[0;34m'nstudents'\u001b[0m\u001b[0;34m]\u001b[0m\u001b[0;34m,\u001b[0m \u001b[0mascending\u001b[0m\u001b[0;34m=\u001b[0m\u001b[0;34m[\u001b[0m\u001b[0;32mFalse\u001b[0m\u001b[0;34m]\u001b[0m\u001b[0;34m,\u001b[0m \u001b[0minplace\u001b[0m\u001b[0;34m=\u001b[0m\u001b[0;32mTrue\u001b[0m\u001b[0;34m)\u001b[0m\u001b[0;34m\u001b[0m\u001b[0m\n\u001b[0m\u001b[1;32m      2\u001b[0m \u001b[0mcourses\u001b[0m\u001b[0;34m.\u001b[0m\u001b[0mhead\u001b[0m\u001b[0;34m(\u001b[0m\u001b[0;34m)\u001b[0m\u001b[0;34m\u001b[0m\u001b[0m\n",
      "\u001b[0;32m/anaconda3/lib/python3.6/site-packages/pandas/core/generic.py\u001b[0m in \u001b[0;36m__getattr__\u001b[0;34m(self, name)\u001b[0m\n\u001b[1;32m   3612\u001b[0m             \u001b[0;32mif\u001b[0m \u001b[0mname\u001b[0m \u001b[0;32min\u001b[0m \u001b[0mself\u001b[0m\u001b[0;34m.\u001b[0m\u001b[0m_info_axis\u001b[0m\u001b[0;34m:\u001b[0m\u001b[0;34m\u001b[0m\u001b[0m\n\u001b[1;32m   3613\u001b[0m                 \u001b[0;32mreturn\u001b[0m \u001b[0mself\u001b[0m\u001b[0;34m[\u001b[0m\u001b[0mname\u001b[0m\u001b[0;34m]\u001b[0m\u001b[0;34m\u001b[0m\u001b[0m\n\u001b[0;32m-> 3614\u001b[0;31m             \u001b[0;32mreturn\u001b[0m \u001b[0mobject\u001b[0m\u001b[0;34m.\u001b[0m\u001b[0m__getattribute__\u001b[0m\u001b[0;34m(\u001b[0m\u001b[0mself\u001b[0m\u001b[0;34m,\u001b[0m \u001b[0mname\u001b[0m\u001b[0;34m)\u001b[0m\u001b[0;34m\u001b[0m\u001b[0m\n\u001b[0m\u001b[1;32m   3615\u001b[0m \u001b[0;34m\u001b[0m\u001b[0m\n\u001b[1;32m   3616\u001b[0m     \u001b[0;32mdef\u001b[0m \u001b[0m__setattr__\u001b[0m\u001b[0;34m(\u001b[0m\u001b[0mself\u001b[0m\u001b[0;34m,\u001b[0m \u001b[0mname\u001b[0m\u001b[0;34m,\u001b[0m \u001b[0mvalue\u001b[0m\u001b[0;34m)\u001b[0m\u001b[0;34m:\u001b[0m\u001b[0;34m\u001b[0m\u001b[0m\n",
      "\u001b[0;31mAttributeError\u001b[0m: 'DataFrame' object has no attribute 'sort'"
     ]
    }
   ],
   "source": [
    "courses.sort(['nstudents'], ascending=[False], inplace=True)\n",
    "courses.head()"
   ]
  },
  {
   "cell_type": "code",
   "execution_count": 5,
   "metadata": {},
   "outputs": [
    {
     "name": "stdout",
     "output_type": "stream",
     "text": [
      "I am building the timetable, please wait .... \n"
     ]
    },
    {
     "name": "stderr",
     "output_type": "stream",
     "text": [
      "//anaconda/lib/python3.5/site-packages/ipykernel/__main__.py:23: SettingWithCopyWarning: \n",
      "A value is trying to be set on a copy of a slice from a DataFrame\n",
      "\n",
      "See the caveats in the documentation: http://pandas.pydata.org/pandas-docs/stable/indexing.html#indexing-view-versus-copy\n",
      "//anaconda/lib/python3.5/site-packages/ipykernel/__main__.py:24: SettingWithCopyWarning: \n",
      "A value is trying to be set on a copy of a slice from a DataFrame\n",
      "\n",
      "See the caveats in the documentation: http://pandas.pydata.org/pandas-docs/stable/indexing.html#indexing-view-versus-copy\n",
      "//anaconda/lib/python3.5/site-packages/ipykernel/__main__.py:25: SettingWithCopyWarning: \n",
      "A value is trying to be set on a copy of a slice from a DataFrame\n",
      "\n",
      "See the caveats in the documentation: http://pandas.pydata.org/pandas-docs/stable/indexing.html#indexing-view-versus-copy\n",
      "//anaconda/lib/python3.5/site-packages/ipykernel/__main__.py:26: SettingWithCopyWarning: \n",
      "A value is trying to be set on a copy of a slice from a DataFrame\n",
      "\n",
      "See the caveats in the documentation: http://pandas.pydata.org/pandas-docs/stable/indexing.html#indexing-view-versus-copy\n"
     ]
    },
    {
     "name": "stdout",
     "output_type": "stream",
     "text": [
      "-------\n",
      "THE END\n"
     ]
    }
   ],
   "source": [
    "\n",
    "print('I am building the timetable, please wait .... ')\n",
    "\n",
    "\n",
    "def findConf(course,day,slot):    \n",
    "    tempreg = reg[reg['Course'] == course]\n",
    "    SCourse = pd.merge(tempreg,reg, how='left', on ='ID')\n",
    "    NConf = len(SCourse[(SCourse['ExamSlot_y'] == slot) & (SCourse['ExamDay_y'] == day)])\n",
    "    return NConf\n",
    "\n",
    "def findDayConf(course,day): \n",
    "    tempreg = reg[reg['Course'] == course]\n",
    "    SCourse = pd.merge(tempreg,reg, how='left', on ='ID')\n",
    "    NConf = len(SCourse[SCourse['ExamDay_y'] == day])\n",
    "    return NConf\n",
    "\n",
    "i = 1\n",
    "for cs in courses.values:  \n",
    "    for day in range(i,9):\n",
    "        found = 0\n",
    "        for slot in range(1,5):\n",
    "            if(findConf(cs[0],day,slot)==0):\n",
    "                reg.ExamSlot[reg.Course == cs[0]] = slot\n",
    "                reg.ExamDay[reg.Course == cs[0]] = day\n",
    "                courses.ExamSlot[courses.Course == cs[0]] = slot\n",
    "                courses.ExamDay[courses.Course == cs[0]] = day\n",
    "                found = 1\n",
    "                break\n",
    "                \n",
    "        if(found==1):\n",
    "            break\n",
    "\n",
    "            \n",
    "      \n",
    "print(\"-------\")\n",
    "print(\"THE END\")     \n",
    "\n"
   ]
  },
  {
   "cell_type": "code",
   "execution_count": 6,
   "metadata": {},
   "outputs": [
    {
     "data": {
      "text/plain": [
       "array([1, 2, 3, 4])"
      ]
     },
     "execution_count": 6,
     "metadata": {},
     "output_type": "execute_result"
    }
   ],
   "source": [
    "courses['ExamSlot'].unique()"
   ]
  },
  {
   "cell_type": "code",
   "execution_count": 11,
   "metadata": {},
   "outputs": [],
   "source": [
    "# Remaining courses "
   ]
  },
  {
   "cell_type": "code",
   "execution_count": 7,
   "metadata": {},
   "outputs": [
    {
     "data": {
      "text/plain": [
       "0"
      ]
     },
     "execution_count": 7,
     "metadata": {},
     "output_type": "execute_result"
    }
   ],
   "source": [
    "mr = courses[courses['ExamDay']==0]\n",
    "\n",
    "len(mr)"
   ]
  },
  {
   "cell_type": "code",
   "execution_count": null,
   "metadata": {},
   "outputs": [
    {
     "name": "stderr",
     "output_type": "stream",
     "text": [
      "//anaconda/lib/python3.6/site-packages/ipykernel/__main__.py:6: SettingWithCopyWarning: \n",
      "A value is trying to be set on a copy of a slice from a DataFrame\n",
      "\n",
      "See the caveats in the documentation: http://pandas.pydata.org/pandas-docs/stable/indexing.html#indexing-view-versus-copy\n"
     ]
    }
   ],
   "source": []
  },
  {
   "cell_type": "code",
   "execution_count": 18,
   "metadata": {},
   "outputs": [
    {
     "data": {
      "text/plain": [
       "4037"
      ]
     },
     "execution_count": 18,
     "metadata": {},
     "output_type": "execute_result"
    }
   ],
   "source": [
    "result = pd.pivot_table(reg, index =['ID','ExamDay'],aggfunc='count')\n",
    "result = pd.DataFrame(result.to_records())\n",
    "\n",
    "sf = result[(result['College'] == 2) & (result['ExamDay']==1)]\n",
    "\n",
    "len(sf)"
   ]
  },
  {
   "cell_type": "code",
   "execution_count": 78,
   "metadata": {},
   "outputs": [
    {
     "data": {
      "text/html": [
       "<div>\n",
       "<table border=\"1\" class=\"dataframe\">\n",
       "  <thead>\n",
       "    <tr style=\"text-align: right;\">\n",
       "      <th></th>\n",
       "      <th>ID</th>\n",
       "      <th>Full Name</th>\n",
       "      <th>Term Code</th>\n",
       "      <th>Registration Status Code</th>\n",
       "      <th>Registration Status Description</th>\n",
       "      <th>College</th>\n",
       "      <th>Section (CRN)</th>\n",
       "      <th>Course</th>\n",
       "      <th>Subject Code</th>\n",
       "      <th>FWA STATUS</th>\n",
       "      <th>Exam Delivery</th>\n",
       "      <th>Exam Type</th>\n",
       "      <th>Exam Duration (H:MM)</th>\n",
       "      <th>Comments</th>\n",
       "      <th>Credit Hours</th>\n",
       "      <th>Course Division</th>\n",
       "      <th>Faculty Id</th>\n",
       "      <th>Faculty Name</th>\n",
       "      <th>ExamSlot</th>\n",
       "      <th>ExamDay</th>\n",
       "    </tr>\n",
       "  </thead>\n",
       "  <tbody>\n",
       "    <tr>\n",
       "      <th>5216</th>\n",
       "      <td>H00283585</td>\n",
       "      <td>Alanoud Issa Mohamad Al Jasmi</td>\n",
       "      <td>201710</td>\n",
       "      <td>RW</td>\n",
       "      <td>**Web Registered**</td>\n",
       "      <td>SWC</td>\n",
       "      <td>11525</td>\n",
       "      <td>HML-2123</td>\n",
       "      <td>HML</td>\n",
       "      <td>FWA</td>\n",
       "      <td>Paper (PBT)</td>\n",
       "      <td>NaN</td>\n",
       "      <td>02:00:00</td>\n",
       "      <td>NaN</td>\n",
       "      <td>3</td>\n",
       "      <td>Health Sciences</td>\n",
       "      <td>H00281294</td>\n",
       "      <td>Dr. Ahmed Sharafeldin</td>\n",
       "      <td>3</td>\n",
       "      <td>2</td>\n",
       "    </tr>\n",
       "    <tr>\n",
       "      <th>44123</th>\n",
       "      <td>H00283585</td>\n",
       "      <td>Alanoud Issa Mohamad Al Jasmi</td>\n",
       "      <td>201710</td>\n",
       "      <td>RW</td>\n",
       "      <td>**Web Registered**</td>\n",
       "      <td>SWC</td>\n",
       "      <td>11526</td>\n",
       "      <td>HML-2223</td>\n",
       "      <td>HML</td>\n",
       "      <td>FWA</td>\n",
       "      <td>Paper (PBT)</td>\n",
       "      <td>NaN</td>\n",
       "      <td>02:00:00</td>\n",
       "      <td>NaN</td>\n",
       "      <td>3</td>\n",
       "      <td>Health Sciences</td>\n",
       "      <td>H00284317</td>\n",
       "      <td>Dr. Zakeya Baalawy</td>\n",
       "      <td>1</td>\n",
       "      <td>1</td>\n",
       "    </tr>\n",
       "    <tr>\n",
       "      <th>49263</th>\n",
       "      <td>H00283585</td>\n",
       "      <td>Alanoud Issa Mohamad Al Jasmi</td>\n",
       "      <td>201710</td>\n",
       "      <td>RW</td>\n",
       "      <td>**Web Registered**</td>\n",
       "      <td>SWC</td>\n",
       "      <td>11524</td>\n",
       "      <td>HML-2023</td>\n",
       "      <td>HML</td>\n",
       "      <td>FWA</td>\n",
       "      <td>Paper (PBT)</td>\n",
       "      <td>NaN</td>\n",
       "      <td>02:00:00</td>\n",
       "      <td>NaN</td>\n",
       "      <td>3</td>\n",
       "      <td>Health Sciences</td>\n",
       "      <td>H00020883</td>\n",
       "      <td>Teresa Stuart</td>\n",
       "      <td>2</td>\n",
       "      <td>1</td>\n",
       "    </tr>\n",
       "    <tr>\n",
       "      <th>61961</th>\n",
       "      <td>H00283585</td>\n",
       "      <td>Alanoud Issa Mohamad Al Jasmi</td>\n",
       "      <td>201710</td>\n",
       "      <td>RW</td>\n",
       "      <td>**Web Registered**</td>\n",
       "      <td>SWC</td>\n",
       "      <td>11530</td>\n",
       "      <td>HML-3102</td>\n",
       "      <td>HML</td>\n",
       "      <td>FWA</td>\n",
       "      <td>Paper (PBT)</td>\n",
       "      <td>NaN</td>\n",
       "      <td>02:00:00</td>\n",
       "      <td>NaN</td>\n",
       "      <td>2</td>\n",
       "      <td>Health Sciences</td>\n",
       "      <td>H00305136</td>\n",
       "      <td>Anjali Bantwal</td>\n",
       "      <td>4</td>\n",
       "      <td>1</td>\n",
       "    </tr>\n",
       "    <tr>\n",
       "      <th>69597</th>\n",
       "      <td>H00283585</td>\n",
       "      <td>Alanoud Issa Mohamad Al Jasmi</td>\n",
       "      <td>201710</td>\n",
       "      <td>RW</td>\n",
       "      <td>**Web Registered**</td>\n",
       "      <td>SWC</td>\n",
       "      <td>11527</td>\n",
       "      <td>HML-2342</td>\n",
       "      <td>HML</td>\n",
       "      <td>FWA</td>\n",
       "      <td>Paper (PBT)</td>\n",
       "      <td>NaN</td>\n",
       "      <td>02:00:00</td>\n",
       "      <td>NaN</td>\n",
       "      <td>2</td>\n",
       "      <td>Health Sciences</td>\n",
       "      <td>H00020883</td>\n",
       "      <td>Teresa Stuart</td>\n",
       "      <td>3</td>\n",
       "      <td>1</td>\n",
       "    </tr>\n",
       "  </tbody>\n",
       "</table>\n",
       "</div>"
      ],
      "text/plain": [
       "              ID                      Full Name  Term Code  \\\n",
       "5216   H00283585  Alanoud Issa Mohamad Al Jasmi     201710   \n",
       "44123  H00283585  Alanoud Issa Mohamad Al Jasmi     201710   \n",
       "49263  H00283585  Alanoud Issa Mohamad Al Jasmi     201710   \n",
       "61961  H00283585  Alanoud Issa Mohamad Al Jasmi     201710   \n",
       "69597  H00283585  Alanoud Issa Mohamad Al Jasmi     201710   \n",
       "\n",
       "      Registration Status Code Registration Status Description College  \\\n",
       "5216                        RW              **Web Registered**     SWC   \n",
       "44123                       RW              **Web Registered**     SWC   \n",
       "49263                       RW              **Web Registered**     SWC   \n",
       "61961                       RW              **Web Registered**     SWC   \n",
       "69597                       RW              **Web Registered**     SWC   \n",
       "\n",
       "       Section (CRN)    Course Subject Code FWA STATUS Exam Delivery  \\\n",
       "5216           11525  HML-2123          HML        FWA   Paper (PBT)   \n",
       "44123          11526  HML-2223          HML        FWA   Paper (PBT)   \n",
       "49263          11524  HML-2023          HML        FWA   Paper (PBT)   \n",
       "61961          11530  HML-3102          HML        FWA   Paper (PBT)   \n",
       "69597          11527  HML-2342          HML        FWA   Paper (PBT)   \n",
       "\n",
       "      Exam Type Exam Duration (H:MM) Comments  Credit Hours  Course Division  \\\n",
       "5216        NaN             02:00:00      NaN             3  Health Sciences   \n",
       "44123       NaN             02:00:00      NaN             3  Health Sciences   \n",
       "49263       NaN             02:00:00      NaN             3  Health Sciences   \n",
       "61961       NaN             02:00:00      NaN             2  Health Sciences   \n",
       "69597       NaN             02:00:00      NaN             2  Health Sciences   \n",
       "\n",
       "      Faculty Id           Faculty Name  ExamSlot  ExamDay  \n",
       "5216   H00281294  Dr. Ahmed Sharafeldin         3        2  \n",
       "44123  H00284317     Dr. Zakeya Baalawy         1        1  \n",
       "49263  H00020883          Teresa Stuart         2        1  \n",
       "61961  H00305136         Anjali Bantwal         4        1  \n",
       "69597  H00020883          Teresa Stuart         3        1  "
      ]
     },
     "execution_count": 78,
     "metadata": {},
     "output_type": "execute_result"
    }
   ],
   "source": [
    "reg[reg[\"ID\"] == \"H00283585\"]"
   ]
  },
  {
   "cell_type": "code",
   "execution_count": 17,
   "metadata": {},
   "outputs": [
    {
     "name": "stdout",
     "output_type": "stream",
     "text": [
      "True\n"
     ]
    }
   ],
   "source": []
  },
  {
   "cell_type": "code",
   "execution_count": null,
   "metadata": {},
   "outputs": [],
   "source": []
  },
  {
   "cell_type": "code",
   "execution_count": 20,
   "metadata": {},
   "outputs": [
    {
     "data": {
      "text/plain": [
       "543"
      ]
     },
     "execution_count": 20,
     "metadata": {},
     "output_type": "execute_result"
    }
   ],
   "source": [
    "len(courses)"
   ]
  },
  {
   "cell_type": "code",
   "execution_count": 11,
   "metadata": {},
   "outputs": [],
   "source": [
    "writer = pd.ExcelWriter('FWAFinalVersionHO.xlsx')\n",
    "reg.to_excel(writer,'Sheet1')\n",
    "writer.save()"
   ]
  },
  {
   "cell_type": "code",
   "execution_count": 19,
   "metadata": {},
   "outputs": [
    {
     "data": {
      "image/png": "[encoded data removed]",
      "text/plain": [
       "<matplotlib.figure.Figure at 0x11fa0f940>"
      ]
     },
     "metadata": {},
     "output_type": "display_data"
    }
   ],
   "source": [
    "import matplotlib.pyplot as plt\n",
    "\n",
    "\n",
    "plt.hist(courses.ExamDay, bins=30)\n",
    "plt.xlabel('Exam period')\n",
    "plt.ylabel('Number of exam per perios')\n",
    "plt.title('Final exam schedule for 201620')\n",
    "plt.grid(True)\n",
    "\n",
    "plt.show()\n",
    "#courses.examp.plot(kind='hist', bins=30)\n"
   ]
  },
  {
   "cell_type": "code",
   "execution_count": 11,
   "metadata": {},
   "outputs": [
    {
     "data": {
      "image/png": "[encoded data removed]",
      "text/plain": [
       "<matplotlib.figure.Figure at 0x114ffa438>"
      ]
     },
     "metadata": {},
     "output_type": "display_data"
    }
   ],
   "source": [
    "\n",
    "import numpy as np\n",
    "\n",
    "import matplotlib.patches as patches\n",
    "import matplotlib.path as path\n",
    "import matplotlib.animation as animation\n",
    "\n",
    "fig, ax = plt.subplots()\n",
    "\n",
    "# histogram our data with numpy\n",
    "data = np.random.randn(1000)\n",
    "n, bins = np.histogram(data, 100)\n",
    "\n",
    "# get the corners of the rectangles for the histogram\n",
    "left = np.array(bins[:-1])\n",
    "right = np.array(bins[1:])\n",
    "bottom = np.zeros(len(left))\n",
    "top = bottom + n\n",
    "nrects = len(left)\n",
    "\n",
    "# here comes the tricky part -- we have to set up the vertex and path\n",
    "# codes arrays using moveto, lineto and closepoly\n",
    "\n",
    "# for each rect: 1 for the MOVETO, 3 for the LINETO, 1 for the\n",
    "# CLOSEPOLY; the vert for the closepoly is ignored but we still need\n",
    "# it to keep the codes aligned with the vertices\n",
    "nverts = nrects*(1+3+1)\n",
    "verts = np.zeros((nverts, 2))\n",
    "codes = np.ones(nverts, int) * path.Path.LINETO\n",
    "codes[0::5] = path.Path.MOVETO\n",
    "codes[4::5] = path.Path.CLOSEPOLY\n",
    "verts[0::5,0] = left\n",
    "verts[0::5,1] = bottom\n",
    "verts[1::5,0] = left\n",
    "verts[1::5,1] = top\n",
    "verts[2::5,0] = right\n",
    "verts[2::5,1] = top\n",
    "verts[3::5,0] = right\n",
    "verts[3::5,1] = bottom\n",
    "\n",
    "barpath = path.Path(verts, codes)\n",
    "patch = patches.PathPatch(barpath, facecolor='green', edgecolor='yellow', alpha=0.5)\n",
    "ax.add_patch(patch)\n",
    "\n",
    "ax.set_xlim(left[0], right[-1])\n",
    "ax.set_ylim(bottom.min(), top.max())\n",
    "\n",
    "def animate(i):\n",
    "    # simulate new data coming in\n",
    "    data = np.random.randn(1000)\n",
    "    n, bins = np.histogram(data, 100)\n",
    "    top = bottom + n\n",
    "    verts[1::5,1] = top\n",
    "    verts[2::5,1] = top\n",
    "\n",
    "ani = animation.FuncAnimation(fig, animate, 100, repeat=False)\n",
    "plt.show()"
   ]
  },
  {
   "cell_type": "code",
   "execution_count": null,
   "metadata": {},
   "outputs": [],
   "source": []
  }
 ],
 "metadata": {
  "anaconda-cloud": {},
  "kernelspec": {
   "display_name": "Python 3",
   "language": "python",
   "name": "python3"
  },
  "language_info": {
   "codemirror_mode": {
    "name": "ipython",
    "version": 3
   },
   "file_extension": ".py",
   "mimetype": "text/x-python",
   "name": "python",
   "nbconvert_exporter": "python",
   "pygments_lexer": "ipython3",
   "version": "3.6.4"
  }
 },
 "nbformat": 4,
 "nbformat_minor": 2
}
