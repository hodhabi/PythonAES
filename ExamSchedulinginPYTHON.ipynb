{
 "cells": [
  {
   "cell_type": "code",
   "execution_count": 236,
   "metadata": {},
   "outputs": [
    {
     "data": {
      "text/plain": [
       "Index(['Term', 'Campus', 'Student Id', 'Full Name', 'Final Approval ',\n",
       "       'Division', 'Course-Code', 'Equivalent Course?', 'Course Title',\n",
       "       'Final Course', 'FWA STATUS', 'Exam Delivery', 'Duration (hr)',\n",
       "       'Duration (min)'],\n",
       "      dtype='object')"
      ]
     },
     "execution_count": 236,
     "metadata": {},
     "output_type": "execute_result"
    }
   ],
   "source": [
    "import pandas as pd\n",
    "import warnings\n",
    "warnings.filterwarnings(\"ignore\")\n",
    "\n",
    "regfull = pd.read_excel(\"201720&201730 Fall Makeup List (2018-07-24) - DrHamad.xlsx\",sheetname=\"StudentList\")\n",
    "\n",
    "regfull.columns"
   ]
  },
  {
   "cell_type": "code",
   "execution_count": 237,
   "metadata": {},
   "outputs": [],
   "source": [
    "reg = regfull"
   ]
  },
  {
   "cell_type": "code",
   "execution_count": 238,
   "metadata": {},
   "outputs": [],
   "source": [
    "reg[\"Student Id\"]=reg[\"Student Id\"].astype(str) \n",
    "reg['ExamSlot'] = 0\n",
    "reg[\"Day\"] = 0\n",
    "reg['nStudent'] = 0\n",
    "\n",
    "\n",
    "courses = reg[\"Final Course\"].unique()\n",
    "\n",
    "\n",
    "#This loop calculated number of students registered in a course\n",
    "for course in courses:\n",
    "    reg['nStudent'][reg[\"Final Course\"]==course] = len(reg[reg[\"Final Course\"]==course])\n",
    "\n",
    "# This function schedule a gevin course using a day and slot\n",
    "\n",
    "def scheduleCourse(day,slot):\n",
    "    courses = reg[(reg[\"Day\"] == 0)][\"Final Course\"].unique() # focusing on not scheduled courses\n",
    "    \n",
    "    for course in courses:\n",
    "        \n",
    "        # The following 5 lines are appending the students registered in a given course \n",
    "        # to those who are alreday scheduled on the day and finding how many students are\n",
    "        # scheduled 3 exams.  If any then this day and slot are not good.\n",
    "        # This code limit maximum of exams a student can do in a day to 2.\n",
    "        # you can change the number 3 to any number based on your college policy\n",
    "        \n",
    "        reg3 = reg[(reg[\"Final Course\"]==course)]  \n",
    "        nreg = reg[(reg[\"Day\"] == day)]\n",
    "        rg = reg3.append(nreg)  \n",
    "        rgg = rg.groupby('Student Id').count()\n",
    "        x = len(rgg[rgg['Campus']==3])\n",
    "        \n",
    "        dayslot = len(reg[(reg[\"Day\"]==day) & (reg[\"ExamSlot\"]==slot)][\"Final Course\"].unique())\n",
    "        \n",
    "        if(dayslot<40):  #This is the maximum of exams in one slot\n",
    "        \n",
    "            if(x==0):\n",
    "                # The same process above is repeated for the exam slot\n",
    "                sreg3 = reg[(reg[\"Final Course\"]==course)]\n",
    "                snreg = reg[(reg[\"ExamSlot\"] == slot) & (reg[\"Day\"]==day)]\n",
    "                srg = sreg3.append(snreg)\n",
    "                srgg = srg.groupby('Student Id').count()\n",
    "                sx = len(srgg[srgg['Campus']==2])         \n",
    "                if(sx==0):\n",
    "                    reg[\"ExamSlot\"][reg[\"Final Course\"]==course]=slot  # scheduling the course on the given slot\n",
    "                    reg[\"Day\"][reg[\"Final Course\"]==course]=day  #scheduling the course on the given day"
   ]
  },
  {
   "cell_type": "code",
   "execution_count": 239,
   "metadata": {},
   "outputs": [
    {
     "name": "stdout",
     "output_type": "stream",
     "text": [
      "Day  1 Slot =  1 40\n",
      "Day  1 Slot =  2 40\n",
      "Day  1 Slot =  3 40\n",
      "Day  2 Slot =  1 40\n",
      "Day  2 Slot =  2 35\n",
      "Day  2 Slot =  3 9\n",
      "Day  3 Slot =  1 5\n",
      "Day  3 Slot =  2 1\n",
      "Day  3 Slot =  3 0\n",
      "Day  4 Slot =  1 1\n",
      "Day  4 Slot =  2 0\n",
      "Day  4 Slot =  3 0\n",
      "Day  5 Slot =  1 0\n",
      "Day  5 Slot =  2 0\n",
      "Day  5 Slot =  3 0\n",
      "Day  6 Slot =  1 0\n",
      "Day  6 Slot =  2 0\n",
      "Day  6 Slot =  3 0\n",
      "Day  7 Slot =  1 0\n",
      "Day  7 Slot =  2 0\n",
      "Day  7 Slot =  3 0\n",
      "Day  8 Slot =  1 0\n",
      "Day  8 Slot =  2 0\n",
      "Day  8 Slot =  3 0\n",
      "[]\n"
     ]
    }
   ],
   "source": [
    "# The main code to build the schedule\n",
    "\n",
    "reg = reg.sort_values(['Division','Final Course','nStudent'],ascending=[1,0,0]) #sorting by division, course, nStudent\n",
    "\n",
    "reg['ExamSlot'] = 0  #reseting the ExamSlot\n",
    "reg[\"Day\"] = 0       #reseting the Day\n",
    "\n",
    "# The following lines go day by day and slot by slot looking for a space that does\n",
    "# not create conflict for any student\n",
    "\n",
    "for day in range(1,9): #8 days\n",
    "    for slot in range(1,4): #3 exams slots\n",
    "        scheduleCourse(day,slot)\n",
    "        print(\"Day \", day, \"Slot = \", slot, len(reg[(reg[\"Day\"] == day) & (reg[\"ExamSlot\"] == slot)][\"Final Course\"].unique()))\n",
    "\n",
    "print(reg[reg[\"Day\"]==0][\"Final Course\"].unique()) #Display any course that was not schedulled.\n",
    "\n",
    "\n",
    "#Formating the schedule.\n",
    "\n",
    "schedule = pd.DataFrame(courses, columns=[\"Course\"])\n",
    "schedule[\"ExamDay\"] = 0\n",
    "schedule[\"ExamSlot\"] = 0\n",
    "schedule[\"Duration (min)\"] = 0\n",
    "schedule[\"Exam Delivery\"] = \"\"\n",
    "\n",
    "for course in courses:\n",
    "    xday = reg[reg[\"Final Course\"]==course][\"Day\"].unique()\n",
    "    xslot = reg[reg[\"Final Course\"]==course][\"ExamSlot\"].unique()\n",
    "    xdur = reg[reg[\"Final Course\"]==course][\"Duration (min)\"].unique()\n",
    "    xdel = reg[reg[\"Final Course\"]==course][\"Exam Delivery\"].unique()\n",
    "    \n",
    "    schedule[\"ExamDay\"][schedule[\"Course\"]==course] = xday[0]\n",
    "    schedule[\"ExamSlot\"][schedule[\"Course\"]==course] = xslot[0]\n",
    "    schedule[\"Duration (min)\"][schedule[\"Course\"]==course] = xdur[0]\n",
    "    schedule[\"Exam Delivery\"][schedule[\"Course\"]==course] = xdel[0]\n",
    "    \n",
    "    \n",
    "schedule.sort_values(['ExamDay','ExamSlot'], inplace=True)   \n",
    "\n",
    "writer = pd.ExcelWriter('ExamSchedule.xlsx')\n",
    "reg.to_excel(writer,'Deatils')\n",
    "schedule.to_excel(writer,'Schedule')\n",
    "writer.save()"
   ]
  },
  {
   "cell_type": "code",
   "execution_count": null,
   "metadata": {},
   "outputs": [],
   "source": []
  },
  {
   "cell_type": "code",
   "execution_count": null,
   "metadata": {},
   "outputs": [],
   "source": []
  }
 ],
 "metadata": {
  "kernelspec": {
   "display_name": "Python 3",
   "language": "python",
   "name": "python3"
  },
  "language_info": {
   "codemirror_mode": {
    "name": "ipython",
    "version": 3
   },
   "file_extension": ".py",
   "mimetype": "text/x-python",
   "name": "python",
   "nbconvert_exporter": "python",
   "pygments_lexer": "ipython3",
   "version": "3.6.4"
  }
 },
 "nbformat": 4,
 "nbformat_minor": 2
}
