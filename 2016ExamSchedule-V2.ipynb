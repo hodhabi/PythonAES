{
 "cells": [
  {
   "cell_type": "code",
   "execution_count": 1,
   "metadata": {},
   "outputs": [
    {
     "name": "stderr",
     "output_type": "stream",
     "text": [
      "//anaconda/lib/python3.6/site-packages/IPython/core/interactiveshell.py:2717: DtypeWarning: Columns (14) have mixed types. Specify dtype option on import or set low_memory=False.\n",
      "  interactivity=interactivity, compiler=compiler, result=result)\n"
     ]
    }
   ],
   "source": [
    "import pandas as pd\n",
    "\n",
    "reg=pd.read_csv('registeration.csv')\n",
    "\n",
    "edate = reg['Date'].unique()\n",
    "\n",
    "div = reg['Division'].unique()\n"
   ]
  },
  {
   "cell_type": "code",
   "execution_count": 8,
   "metadata": {},
   "outputs": [
    {
     "data": {
      "text/html": [
       "<div>\n",
       "<table border=\"1\" class=\"dataframe\">\n",
       "  <thead>\n",
       "    <tr style=\"text-align: right;\">\n",
       "      <th></th>\n",
       "      <th>Two exams</th>\n",
       "      <th>Total</th>\n",
       "      <th>percentage</th>\n",
       "    </tr>\n",
       "    <tr>\n",
       "      <th>Date</th>\n",
       "      <th></th>\n",
       "      <th></th>\n",
       "      <th></th>\n",
       "    </tr>\n",
       "  </thead>\n",
       "  <tbody>\n",
       "    <tr>\n",
       "      <th>16-Dec-17</th>\n",
       "      <td>771</td>\n",
       "      <td>7198</td>\n",
       "      <td>10.711309</td>\n",
       "    </tr>\n",
       "    <tr>\n",
       "      <th>10-Dec-17</th>\n",
       "      <td>1612</td>\n",
       "      <td>10043</td>\n",
       "      <td>16.050981</td>\n",
       "    </tr>\n",
       "    <tr>\n",
       "      <th>6-Dec-17</th>\n",
       "      <td>303</td>\n",
       "      <td>5341</td>\n",
       "      <td>5.673095</td>\n",
       "    </tr>\n",
       "    <tr>\n",
       "      <th>12-Dec-17</th>\n",
       "      <td>259</td>\n",
       "      <td>4762</td>\n",
       "      <td>5.438891</td>\n",
       "    </tr>\n",
       "    <tr>\n",
       "      <th>9-Dec-17</th>\n",
       "      <td>1483</td>\n",
       "      <td>10056</td>\n",
       "      <td>14.747414</td>\n",
       "    </tr>\n",
       "    <tr>\n",
       "      <th>14-Dec-17</th>\n",
       "      <td>1072</td>\n",
       "      <td>7769</td>\n",
       "      <td>13.798430</td>\n",
       "    </tr>\n",
       "    <tr>\n",
       "      <th>11-Dec-17</th>\n",
       "      <td>435</td>\n",
       "      <td>6442</td>\n",
       "      <td>6.752561</td>\n",
       "    </tr>\n",
       "    <tr>\n",
       "      <th>7-Dec-17</th>\n",
       "      <td>491</td>\n",
       "      <td>8167</td>\n",
       "      <td>6.012000</td>\n",
       "    </tr>\n",
       "    <tr>\n",
       "      <th>13-Dec-17</th>\n",
       "      <td>256</td>\n",
       "      <td>3952</td>\n",
       "      <td>6.477733</td>\n",
       "    </tr>\n",
       "  </tbody>\n",
       "</table>\n",
       "</div>"
      ],
      "text/plain": [
       "           Two exams  Total  percentage\n",
       "Date                                   \n",
       "16-Dec-17        771   7198   10.711309\n",
       "10-Dec-17       1612  10043   16.050981\n",
       "6-Dec-17         303   5341    5.673095\n",
       "12-Dec-17        259   4762    5.438891\n",
       "9-Dec-17        1483  10056   14.747414\n",
       "14-Dec-17       1072   7769   13.798430\n",
       "11-Dec-17        435   6442    6.752561\n",
       "7-Dec-17         491   8167    6.012000\n",
       "13-Dec-17        256   3952    6.477733"
      ]
     },
     "execution_count": 8,
     "metadata": {},
     "output_type": "execute_result"
    }
   ],
   "source": [
    "result = pd.pivot_table(reg, index =['StudentID','Date'],aggfunc='count')\n",
    "result = pd.DataFrame(result.to_records())\n",
    "\n",
    "df = []\n",
    "\n",
    "for dd in edate:\n",
    "    d2 = len(result[(result['Date']==dd) & (result['CRN']==2)  ])\n",
    "    d = len(result[(result['Date']==dd)])\n",
    "    if(d != 0):\n",
    "        x = d2/d*100\n",
    "        df.append([dd,d2,d,x])\n",
    "\n",
    "df = pd.DataFrame(df,columns=['Date','Two exams','Total','percentage'])  \n",
    "df.set_index(['Date'],inplace=True)\n",
    "df.head(9)"
   ]
  },
  {
   "cell_type": "code",
   "execution_count": 9,
   "metadata": {},
   "outputs": [
    {
     "data": {
      "text/plain": [
       "array([datetime.time(2, 0), datetime.time(1, 30), datetime.time(3, 0),\n",
       "       datetime.time(2, 30), datetime.time(1, 0)], dtype=object)"
      ]
     },
     "execution_count": 9,
     "metadata": {},
     "output_type": "execute_result"
    }
   ],
   "source": [
    "regO['Exam Duration (H:MM)'].unique()"
   ]
  },
  {
   "cell_type": "code",
   "execution_count": 50,
   "metadata": {},
   "outputs": [
    {
     "data": {
      "text/html": [
       "<div>\n",
       "<table border=\"1\" class=\"dataframe\">\n",
       "  <thead>\n",
       "    <tr style=\"text-align: right;\">\n",
       "      <th></th>\n",
       "      <th>Day</th>\n",
       "      <th>Date</th>\n",
       "      <th>Start</th>\n",
       "      <th>End</th>\n",
       "    </tr>\n",
       "    <tr>\n",
       "      <th>slot</th>\n",
       "      <th></th>\n",
       "      <th></th>\n",
       "      <th></th>\n",
       "      <th></th>\n",
       "    </tr>\n",
       "  </thead>\n",
       "  <tbody>\n",
       "    <tr>\n",
       "      <th>1</th>\n",
       "      <td>1</td>\n",
       "      <td>NaN</td>\n",
       "      <td>9.0</td>\n",
       "      <td>11.0</td>\n",
       "    </tr>\n",
       "    <tr>\n",
       "      <th>10</th>\n",
       "      <td>1</td>\n",
       "      <td>NaN</td>\n",
       "      <td>NaN</td>\n",
       "      <td>NaN</td>\n",
       "    </tr>\n",
       "    <tr>\n",
       "      <th>28</th>\n",
       "      <td>1</td>\n",
       "      <td>NaN</td>\n",
       "      <td>1630.0</td>\n",
       "      <td>1830.0</td>\n",
       "    </tr>\n",
       "    <tr>\n",
       "      <th>14</th>\n",
       "      <td>2</td>\n",
       "      <td>NaN</td>\n",
       "      <td>NaN</td>\n",
       "      <td>NaN</td>\n",
       "    </tr>\n",
       "    <tr>\n",
       "      <th>9</th>\n",
       "      <td>2</td>\n",
       "      <td>NaN</td>\n",
       "      <td>1630.0</td>\n",
       "      <td>1830.0</td>\n",
       "    </tr>\n",
       "  </tbody>\n",
       "</table>\n",
       "</div>"
      ],
      "text/plain": [
       "      Day  Date   Start     End\n",
       "slot                           \n",
       "1       1   NaN     9.0    11.0\n",
       "10      1   NaN     NaN     NaN\n",
       "28      1   NaN  1630.0  1830.0\n",
       "14      2   NaN     NaN     NaN\n",
       "9       2   NaN  1630.0  1830.0"
      ]
     },
     "execution_count": 50,
     "metadata": {},
     "output_type": "execute_result"
    }
   ],
   "source": [
    "timeslot.set_index(['slot'], inplace=True)\n",
    "timeslot.head()"
   ]
  },
  {
   "cell_type": "code",
   "execution_count": 51,
   "metadata": {},
   "outputs": [
    {
     "data": {
      "text/plain": [
       "1.0"
      ]
     },
     "execution_count": 51,
     "metadata": {},
     "output_type": "execute_result"
    }
   ],
   "source": [
    "timeslot.loc[1.0]['Day']"
   ]
  },
  {
   "cell_type": "code",
   "execution_count": 52,
   "metadata": {},
   "outputs": [],
   "source": [
    "def findDay(slt):\n",
    "    return timeslot.loc[slt]['Day']"
   ]
  },
  {
   "cell_type": "code",
   "execution_count": 53,
   "metadata": {},
   "outputs": [
    {
     "name": "stderr",
     "output_type": "stream",
     "text": [
      "//anaconda/lib/python3.6/site-packages/ipykernel/__main__.py:12: SettingWithCopyWarning: \n",
      "A value is trying to be set on a copy of a slice from a DataFrame\n",
      "\n",
      "See the caveats in the documentation: http://pandas.pydata.org/pandas-docs/stable/indexing.html#indexing-view-versus-copy\n"
     ]
    },
    {
     "name": "stdout",
     "output_type": "stream",
     "text": [
      "---------------Done-------------------\n"
     ]
    }
   ],
   "source": [
    "reg = regO\n",
    "courses=coursesO\n",
    "\n",
    "reg['ExamSlot'] = 0\n",
    "reg['ExamDay'] = 0\n",
    "courses['ExamSlot'] = 0\n",
    "courses['ExamDay'] = 0\n",
    "courses['nstudents'] = 0\n",
    "\n",
    "for cs in courses.values:\n",
    "    ns = len(reg[reg[\"Course\"] == cs[0]])\n",
    "    courses.nstudents[courses.Course == cs[0]] = ns\n",
    "    \n",
    "\n",
    "print(\"---------------Done-------------------\")"
   ]
  },
  {
   "cell_type": "code",
   "execution_count": null,
   "metadata": {},
   "outputs": [],
   "source": []
  },
  {
   "cell_type": "code",
   "execution_count": 2,
   "metadata": {},
   "outputs": [
    {
     "ename": "NameError",
     "evalue": "name 'courses' is not defined",
     "output_type": "error",
     "traceback": [
      "\u001b[0;31m---------------------------------------------------------------------------\u001b[0m",
      "\u001b[0;31mNameError\u001b[0m                                 Traceback (most recent call last)",
      "\u001b[0;32m<ipython-input-2-92e7f4fac686>\u001b[0m in \u001b[0;36m<module>\u001b[0;34m()\u001b[0m\n\u001b[0;32m----> 1\u001b[0;31m \u001b[0mcourses\u001b[0m\u001b[0;34m.\u001b[0m\u001b[0msort\u001b[0m\u001b[0;34m(\u001b[0m\u001b[0;34m[\u001b[0m\u001b[0;34m'nstudents'\u001b[0m\u001b[0;34m]\u001b[0m\u001b[0;34m,\u001b[0m \u001b[0mascending\u001b[0m\u001b[0;34m=\u001b[0m\u001b[0;34m[\u001b[0m\u001b[0;32mFalse\u001b[0m\u001b[0;34m]\u001b[0m\u001b[0;34m,\u001b[0m \u001b[0minplace\u001b[0m\u001b[0;34m=\u001b[0m\u001b[0;32mTrue\u001b[0m\u001b[0;34m)\u001b[0m\u001b[0;34m\u001b[0m\u001b[0m\n\u001b[0m\u001b[1;32m      2\u001b[0m \u001b[0mcourses\u001b[0m\u001b[0;34m.\u001b[0m\u001b[0mhead\u001b[0m\u001b[0;34m(\u001b[0m\u001b[0;34m)\u001b[0m\u001b[0;34m\u001b[0m\u001b[0m\n",
      "\u001b[0;31mNameError\u001b[0m: name 'courses' is not defined"
     ]
    }
   ],
   "source": [
    "courses.sort(['nstudents'], ascending=[False], inplace=True)\n",
    "courses.head()"
   ]
  },
  {
   "cell_type": "code",
   "execution_count": 55,
   "metadata": {},
   "outputs": [],
   "source": [
    "def MultiExam(cs,day):\n",
    "    creg = reg[reg[\"Course\"]==cs]\n",
    "    for cr in creg.values:\n",
    "        x = len(reg[(reg['ID']==cr[0]) & (reg['ExamDay']==day)])\n",
    "        if(x>1):\n",
    "            return 1;\n",
    "    return 0;"
   ]
  },
  {
   "cell_type": "code",
   "execution_count": 56,
   "metadata": {},
   "outputs": [
    {
     "data": {
      "text/plain": [
       "0"
      ]
     },
     "execution_count": 56,
     "metadata": {},
     "output_type": "execute_result"
    }
   ],
   "source": [
    "MultiExam('CIS-1103',5)"
   ]
  },
  {
   "cell_type": "code",
   "execution_count": 57,
   "metadata": {},
   "outputs": [
    {
     "name": "stdout",
     "output_type": "stream",
     "text": [
      "I am building the timetable, please wait .... \n"
     ]
    },
    {
     "name": "stderr",
     "output_type": "stream",
     "text": [
      "//anaconda/lib/python3.6/site-packages/ipykernel/__main__.py:24: SettingWithCopyWarning: \n",
      "A value is trying to be set on a copy of a slice from a DataFrame\n",
      "\n",
      "See the caveats in the documentation: http://pandas.pydata.org/pandas-docs/stable/indexing.html#indexing-view-versus-copy\n",
      "//anaconda/lib/python3.6/site-packages/ipykernel/__main__.py:25: SettingWithCopyWarning: \n",
      "A value is trying to be set on a copy of a slice from a DataFrame\n",
      "\n",
      "See the caveats in the documentation: http://pandas.pydata.org/pandas-docs/stable/indexing.html#indexing-view-versus-copy\n",
      "//anaconda/lib/python3.6/site-packages/ipykernel/__main__.py:26: SettingWithCopyWarning: \n",
      "A value is trying to be set on a copy of a slice from a DataFrame\n",
      "\n",
      "See the caveats in the documentation: http://pandas.pydata.org/pandas-docs/stable/indexing.html#indexing-view-versus-copy\n",
      "//anaconda/lib/python3.6/site-packages/ipykernel/__main__.py:27: SettingWithCopyWarning: \n",
      "A value is trying to be set on a copy of a slice from a DataFrame\n",
      "\n",
      "See the caveats in the documentation: http://pandas.pydata.org/pandas-docs/stable/indexing.html#indexing-view-versus-copy\n"
     ]
    },
    {
     "name": "stdout",
     "output_type": "stream",
     "text": [
      "-------\n",
      "THE END\n"
     ]
    }
   ],
   "source": [
    "\n",
    "\n",
    "print('I am building the timetable, please wait .... ')\n",
    "\n",
    "\n",
    "def findConf(course,slot):    \n",
    "    tempreg = reg[reg['Course'] == course]\n",
    "    SCourse = pd.merge(tempreg,reg, how='left', on ='ID')\n",
    "    NConf = len(SCourse[SCourse['ExamSlot_y'] == slot])\n",
    "    return NConf\n",
    "\n",
    "\n",
    "def findDayConf(course,day):    \n",
    "    tempreg = reg[reg['Course'] == course]\n",
    "    SCourse = pd.merge(tempreg,reg, how='left', on ='ID')\n",
    "    NConf = len(SCourse[SCourse['ExamDay_y'] == day])\n",
    "    return NConf\n",
    "\n",
    "i = 0\n",
    "for cs in courses.values:  \n",
    "    for slot in range(1,40):\n",
    "        found = 0\n",
    "        if(findConf(cs[0],slot)==0):\n",
    "           reg.ExamSlot[reg.Course == cs[0]] = slot\n",
    "           courses.ExamSlot[courses.Course == cs[0]] = slot\n",
    "           reg.ExamDay[reg.Course == cs[0]] = findDay(slot)\n",
    "           courses.ExamDay[courses.Course == cs[0]] = findDay(slot)\n",
    "           i = i + 1\n",
    "           #print(i, cs[0],slot,findDay(slot))\n",
    "           found = 1\n",
    "           break\n",
    "\n",
    "        if(found==1):\n",
    "            print(cs[0])\n",
    "            break\n",
    "\n",
    "            \n",
    "      \n",
    "print(\"-------\")\n",
    "print(\"THE END\") \n",
    "\n"
   ]
  },
  {
   "cell_type": "code",
   "execution_count": 69,
   "metadata": {},
   "outputs": [
    {
     "data": {
      "text/plain": [
       "array([1, 3, 8, 6, 4, 5, 7, 9, 2])"
      ]
     },
     "execution_count": 69,
     "metadata": {},
     "output_type": "execute_result"
    }
   ],
   "source": [
    "courses['ExamDay'].unique()"
   ]
  },
  {
   "cell_type": "code",
   "execution_count": 59,
   "metadata": {},
   "outputs": [],
   "source": [
    "# Remaining courses "
   ]
  },
  {
   "cell_type": "code",
   "execution_count": 60,
   "metadata": {},
   "outputs": [
    {
     "data": {
      "text/plain": [
       "0"
      ]
     },
     "execution_count": 60,
     "metadata": {},
     "output_type": "execute_result"
    }
   ],
   "source": [
    "mr = courses[courses['ExamDay']==0]\n",
    "\n",
    "len(mr)"
   ]
  },
  {
   "cell_type": "code",
   "execution_count": null,
   "metadata": {},
   "outputs": [],
   "source": [
    "\n"
   ]
  },
  {
   "cell_type": "code",
   "execution_count": 61,
   "metadata": {},
   "outputs": [
    {
     "name": "stdout",
     "output_type": "stream",
     "text": [
      "Number of multirxam:  2\n",
      "Day 1 : 1238  Total:  8245  % 15.01516070345664\n",
      "Day 2 : 490  Total:  8301  % 5.902903264666907\n",
      "Day 3 : 273  Total:  6521  % 4.186474467106272\n",
      "Day 4 : 320  Total:  5136  % 6.230529595015576\n",
      "Day 5 : 1254  Total:  7974  % 15.726109857035365\n",
      "Day 6 : 714  Total:  5901  % 12.099644128113878\n",
      "Day 7 : 866  Total:  5998  % 14.438146048682896\n",
      "Day 8 : 155  Total:  4946  % 3.133845531742822\n",
      "Number of multirxam:  3\n",
      "Day 1 : 0  Total:  8245  % 0.0\n",
      "Day 2 : 2  Total:  8301  % 0.024093482712926155\n",
      "Day 3 : 11  Total:  6521  % 0.1686857843888974\n",
      "Day 4 : 5  Total:  5136  % 0.09735202492211838\n",
      "Day 5 : 44  Total:  7974  % 0.5517933283170303\n",
      "Day 6 : 28  Total:  5901  % 0.4744958481613286\n",
      "Day 7 : 32  Total:  5998  % 0.53351117039013\n",
      "Day 8 : 10  Total:  4946  % 0.20218358269308534\n",
      "Number of multirxam:  4\n",
      "Day 1 : 0  Total:  8245  % 0.0\n",
      "Day 2 : 0  Total:  8301  % 0.0\n",
      "Day 3 : 0  Total:  6521  % 0.0\n",
      "Day 4 : 0  Total:  5136  % 0.0\n",
      "Day 5 : 0  Total:  7974  % 0.0\n",
      "Day 6 : 0  Total:  5901  % 0.0\n",
      "Day 7 : 0  Total:  5998  % 0.0\n",
      "Day 8 : 0  Total:  4946  % 0.0\n"
     ]
    }
   ],
   "source": [
    "result = pd.pivot_table(reg, index =['ID','ExamDay'],aggfunc='count')\n",
    "result = pd.DataFrame(result.to_records())\n",
    "for x in range(2,5):\n",
    "    print(\"Number of multirxam: \",x)\n",
    "    for day in range(1,9):\n",
    "        sf = result[(result['College'] == x) & (result['ExamDay']==day)]\n",
    "        total = result[(result['College'] == 1) & (result['ExamDay']==day)]\n",
    "\n",
    "        print(\"Day\", day, \":\", len(sf), \" Total: \",len(total), \" %\", len(sf)/len(total)*100)"
   ]
  },
  {
   "cell_type": "code",
   "execution_count": 89,
   "metadata": {},
   "outputs": [
    {
     "name": "stdout",
     "output_type": "stream",
     "text": [
      "['EGN-4003'] [5]\n",
      "['LSN-2503'] [15]\n",
      "['BUS-4663'] [5]\n",
      "['BUS-4353'] [26]\n",
      "['EMT-4923'] [26]\n",
      "['EGN-3333'] [15]\n"
     ]
    }
   ],
   "source": [
    "cw3 = []\n",
    "\n",
    "result = pd.pivot_table(reg, index =['ID','ExamDay'],aggfunc='count')\n",
    "result = pd.DataFrame(result.to_records())\n",
    "\n",
    "day = 4\n",
    "\n",
    "x = 3\n",
    "sf = result[(result['College'] == x) & (result['ExamDay']==day)]\n",
    "\n",
    "ust = sf['ID'].unique()\n",
    "for i in range(1,len(ust)-1):\n",
    "    ucs = reg[(reg['ID']==ust[i]) & (reg['ExamDay'] == day)]['Course'].unique()\n",
    "    for c in ucs:\n",
    "        cw3.append(c)\n",
    "    \n",
    "cw3 = (list(set(cw3)))\n",
    "\n",
    "for c in cw3:\n",
    "    ur = courses[courses['Course']==c]\n",
    "    print(list(ur['Course']), list(ur['ExamSlot']))"
   ]
  },
  {
   "cell_type": "code",
   "execution_count": 86,
   "metadata": {},
   "outputs": [
    {
     "data": {
      "text/plain": [
       "11"
      ]
     },
     "execution_count": 86,
     "metadata": {},
     "output_type": "execute_result"
    }
   ],
   "source": [
    "\n",
    "d1 = reg[(reg['ExamDay']==3) & (reg['ExamSlot']==2)]['ID'].unique()\n",
    "d2 = reg[(reg['ExamDay']==3) & (reg['ExamSlot']==20)]['ID'].unique()\n",
    "d3 = reg[(reg['ExamDay']==3) & (reg['ExamSlot']==24)]['ID'].unique()\n",
    "\n",
    "d1=set(d1)\n",
    "d2=set(d2)\n",
    "d3=set(d3)\n",
    "\n",
    "\n",
    "len(d1.intersection(d2.intersection(d3)))"
   ]
  },
  {
   "cell_type": "code",
   "execution_count": 161,
   "metadata": {},
   "outputs": [],
   "source": [
    "def findNewSlot(day,conf):\n",
    "    cr = set(reg[reg[\"ExamDay\"]==day]['ID'])\n",
    "    cf = conf.intersection(cr)\n",
    "    print(len(cf))\n",
    "\n",
    "\n",
    "\n",
    "def mconf(course,x,day,nday):\n",
    "    result = pd.pivot_table(reg, index =['ID','ExamDay'],aggfunc='count')\n",
    "    result = pd.DataFrame(result.to_records())\n",
    "    print(\"Number of multirxam: \",x)\n",
    "    sf = result[(result['College'] == x) & (result['ExamDay']==day)]\n",
    "    total = result[(result['College'] == 1) & (result['ExamDay']==day)]\n",
    "    print(\"Day\", day, \":\", len(sf), \" Total: \",len(total), \" %\", len(sf)/len(total)*100)\n",
    "    sf=set(sf[\"ID\"].unique())\n",
    "    ccourse = set(reg[reg[\"Course\"]==course]['ID'])\n",
    "    conf = sf.intersection(ccourse)\n",
    "    if(findNewSlot(nday,conf)==0):\n",
    "        print(\"Added\")\n",
    "  \n",
    "    \n"
   ]
  },
  {
   "cell_type": "code",
   "execution_count": 176,
   "metadata": {},
   "outputs": [
    {
     "name": "stdout",
     "output_type": "stream",
     "text": [
      "Number of multirxam:  2\n",
      "Day 3 : 273  Total:  6521  % 4.186474467106272\n",
      "0\n"
     ]
    }
   ],
   "source": [
    "mconf(\"LSN-2503\",2,3,2)"
   ]
  },
  {
   "cell_type": "code",
   "execution_count": 156,
   "metadata": {},
   "outputs": [
    {
     "name": "stdout",
     "output_type": "stream",
     "text": [
      "6\n"
     ]
    }
   ],
   "source": []
  },
  {
   "cell_type": "code",
   "execution_count": null,
   "metadata": {},
   "outputs": [],
   "source": []
  },
  {
   "cell_type": "code",
   "execution_count": 64,
   "metadata": {},
   "outputs": [
    {
     "data": {
      "text/plain": [
       "541"
      ]
     },
     "execution_count": 64,
     "metadata": {},
     "output_type": "execute_result"
    }
   ],
   "source": [
    "len(courses)"
   ]
  },
  {
   "cell_type": "code",
   "execution_count": 65,
   "metadata": {},
   "outputs": [],
   "source": [
    "writer = pd.ExcelWriter('FWADraftVersion7Oct.xlsx')\n",
    "reg.to_excel(writer,'Sheet1')\n",
    "writer.save()"
   ]
  },
  {
   "cell_type": "code",
   "execution_count": 17,
   "metadata": {},
   "outputs": [
    {
     "data": {
      "image/png": "[encoded data removed]",
      "text/plain": [
       "<matplotlib.figure.Figure at 0x10d516c18>"
      ]
     },
     "metadata": {},
     "output_type": "display_data"
    }
   ],
   "source": [
    "import matplotlib.pyplot as plt\n",
    "\n",
    "\n",
    "plt.hist(df['Two exams'], bins=12)\n",
    "plt.xlabel('Exam period')\n",
    "plt.ylabel('Number of exam per perios')\n",
    "plt.title('Final exam schedule for 201710')\n",
    "plt.grid(True)\n",
    "\n",
    "plt.show()\n",
    "#courses.examp.plot(kind='hist', bins=30)\n"
   ]
  },
  {
   "cell_type": "code",
   "execution_count": 67,
   "metadata": {},
   "outputs": [
    {
     "data": {
      "image/png": "[encoded data removed]",
      "text/plain": [
       "<matplotlib.figure.Figure at 0x115ec8d68>"
      ]
     },
     "metadata": {},
     "output_type": "display_data"
    }
   ],
   "source": [
    "\n",
    "import numpy as np\n",
    "\n",
    "import matplotlib.patches as patches\n",
    "import matplotlib.path as path\n",
    "import matplotlib.animation as animation\n",
    "\n",
    "fig, ax = plt.subplots()\n",
    "\n",
    "# histogram our data with numpy\n",
    "data = np.random.randn(1000)\n",
    "n, bins = np.histogram(data, 100)\n",
    "\n",
    "# get the corners of the rectangles for the histogram\n",
    "left = np.array(bins[:-1])\n",
    "right = np.array(bins[1:])\n",
    "bottom = np.zeros(len(left))\n",
    "top = bottom + n\n",
    "nrects = len(left)\n",
    "\n",
    "# here comes the tricky part -- we have to set up the vertex and path\n",
    "# codes arrays using moveto, lineto and closepoly\n",
    "\n",
    "# for each rect: 1 for the MOVETO, 3 for the LINETO, 1 for the\n",
    "# CLOSEPOLY; the vert for the closepoly is ignored but we still need\n",
    "# it to keep the codes aligned with the vertices\n",
    "nverts = nrects*(1+3+1)\n",
    "verts = np.zeros((nverts, 2))\n",
    "codes = np.ones(nverts, int) * path.Path.LINETO\n",
    "codes[0::5] = path.Path.MOVETO\n",
    "codes[4::5] = path.Path.CLOSEPOLY\n",
    "verts[0::5,0] = left\n",
    "verts[0::5,1] = bottom\n",
    "verts[1::5,0] = left\n",
    "verts[1::5,1] = top\n",
    "verts[2::5,0] = right\n",
    "verts[2::5,1] = top\n",
    "verts[3::5,0] = right\n",
    "verts[3::5,1] = bottom\n",
    "\n",
    "barpath = path.Path(verts, codes)\n",
    "patch = patches.PathPatch(barpath, facecolor='green', edgecolor='yellow', alpha=0.5)\n",
    "ax.add_patch(patch)\n",
    "\n",
    "ax.set_xlim(left[0], right[-1])\n",
    "ax.set_ylim(bottom.min(), top.max())\n",
    "\n",
    "def animate(i):\n",
    "    # simulate new data coming in\n",
    "    data = np.random.randn(1000)\n",
    "    n, bins = np.histogram(data, 100)\n",
    "    top = bottom + n\n",
    "    verts[1::5,1] = top\n",
    "    verts[2::5,1] = top\n",
    "\n",
    "ani = animation.FuncAnimation(fig, animate, 100, repeat=False)\n",
    "plt.show()"
   ]
  },
  {
   "cell_type": "code",
   "execution_count": null,
   "metadata": {},
   "outputs": [],
   "source": []
  }
 ],
 "metadata": {
  "anaconda-cloud": {},
  "kernelspec": {
   "display_name": "Python 3",
   "language": "python",
   "name": "python3"
  },
  "language_info": {
   "codemirror_mode": {
    "name": "ipython",
    "version": 3
   },
   "file_extension": ".py",
   "mimetype": "text/x-python",
   "name": "python",
   "nbconvert_exporter": "python",
   "pygments_lexer": "ipython3",
   "version": "3.6.3"
  }
 },
 "nbformat": 4,
 "nbformat_minor": 2
}
